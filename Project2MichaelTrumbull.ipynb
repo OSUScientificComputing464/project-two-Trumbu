{
 "cells": [
  {
   "cell_type": "markdown",
   "metadata": {},
   "source": [
    "# Project 2 - Michael Trumbull"
   ]
  },
  {
   "cell_type": "markdown",
   "metadata": {},
   "source": [
    "## Part 1 - Regression on California house prices"
   ]
  },
  {
   "cell_type": "markdown",
   "metadata": {},
   "source": [
    "#### Importing necessary packages"
   ]
  },
  {
   "cell_type": "code",
   "execution_count": 1,
   "metadata": {},
   "outputs": [],
   "source": [
    "from sklearn import datasets\n",
    "from sklearn.model_selection import train_test_split\n",
    "import numpy as np\n",
    "import matplotlib.pyplot as plt"
   ]
  },
  {
   "cell_type": "markdown",
   "metadata": {},
   "source": [
    "#### Importing data to be used"
   ]
  },
  {
   "cell_type": "code",
   "execution_count": 2,
   "metadata": {},
   "outputs": [],
   "source": [
    "hdata = datasets.fetch_california_housing()"
   ]
  },
  {
   "cell_type": "markdown",
   "metadata": {},
   "source": [
    "#### Print features of hdata"
   ]
  },
  {
   "cell_type": "code",
   "execution_count": 3,
   "metadata": {},
   "outputs": [
    {
     "name": "stdout",
     "output_type": "stream",
     "text": [
      "<class 'sklearn.utils.Bunch'>\n",
      "Shape of data:  (20640, 8)\n",
      "Shape of price:  (20640,)\n",
      "Shape of names:  (8,)\n"
     ]
    }
   ],
   "source": [
    "print(type(hdata))\n",
    "Descr = hdata['DESCR']\n",
    "\n",
    "data = hdata['data']\n",
    "print(\"Shape of data: \", np.shape(data))\n",
    "\n",
    "price = hdata['target']\n",
    "print(\"Shape of price: \", np.shape(price))\n",
    "\n",
    "names = hdata['feature_names']\n",
    "print(\"Shape of names: \", np.shape(names))\n",
    "\n"
   ]
  },
  {
   "cell_type": "markdown",
   "metadata": {},
   "source": [
    "### Part A"
   ]
  },
  {
   "cell_type": "markdown",
   "metadata": {},
   "source": [
    "#### Print interesting values for each variable"
   ]
  },
  {
   "cell_type": "code",
   "execution_count": 4,
   "metadata": {},
   "outputs": [
    {
     "name": "stdout",
     "output_type": "stream",
     "text": [
      "MedInc  minimum:  0.4999\n",
      "MedInc  maximum:  15.0001\n",
      "MedInc  mean:  3.8706710029069766\n",
      "\n",
      "HouseAge  minimum:  1.0\n",
      "HouseAge  maximum:  52.0\n",
      "HouseAge  mean:  28.639486434108527\n",
      "\n",
      "AveRooms  minimum:  0.8461538461538461\n",
      "AveRooms  maximum:  141.9090909090909\n",
      "AveRooms  mean:  5.428999742190376\n",
      "\n",
      "AveBedrms  minimum:  0.3333333333333333\n",
      "AveBedrms  maximum:  34.06666666666667\n",
      "AveBedrms  mean:  1.096675149606208\n",
      "\n",
      "Population  minimum:  3.0\n",
      "Population  maximum:  35682.0\n",
      "Population  mean:  1425.4767441860465\n",
      "\n",
      "AveOccup  minimum:  0.6923076923076923\n",
      "AveOccup  maximum:  1243.3333333333333\n",
      "AveOccup  mean:  3.0706551594363742\n",
      "\n",
      "Latitude  minimum:  32.54\n",
      "Latitude  maximum:  41.95\n",
      "Latitude  mean:  35.63186143410853\n",
      "\n",
      "Longitude  minimum:  -124.35\n",
      "Longitude  maximum:  -114.31\n",
      "Longitude  mean:  -119.56970445736432\n",
      "\n"
     ]
    }
   ],
   "source": [
    "for i in range (0,8):\n",
    "    print(names[i], ' minimum: ', min(data[:,i]))\n",
    "    print(names[i], ' maximum: ', max(data[:,i]))\n",
    "    print(names[i], ' mean: ', np.mean(data[:,i]))\n",
    "    print()"
   ]
  },
  {
   "cell_type": "markdown",
   "metadata": {},
   "source": [
    "### Part B"
   ]
  },
  {
   "cell_type": "markdown",
   "metadata": {},
   "source": [
    "#### 2D plots of each variable vs price"
   ]
  },
  {
   "cell_type": "code",
   "execution_count": 5,
   "metadata": {},
   "outputs": [
    {
     "data": {
      "image/png": "[encoded data removed]",
      "text/plain": [
       "<Figure size 432x288 with 8 Axes>"
      ]
     },
     "metadata": {
      "needs_background": "light"
     },
     "output_type": "display_data"
    }
   ],
   "source": [
    "color = ['blue','red','yellow','pink','purple','green','orange','black']\n",
    "for i in range(1,9):\n",
    "    plt.subplot(2,4,i)\n",
    "    plt.plot(data[:,i-1],price,'o',color=color[i-1])\n",
    "    plt.ylabel('price')\n",
    "    plt.xlabel(names[i-1])\n",
    "plt.show()"
   ]
  },
  {
   "cell_type": "markdown",
   "metadata": {},
   "source": [
    "### Part C"
   ]
  },
  {
   "cell_type": "markdown",
   "metadata": {},
   "source": [
    "#### Split data "
   ]
  },
  {
   "cell_type": "code",
   "execution_count": 6,
   "metadata": {},
   "outputs": [
    {
     "name": "stdout",
     "output_type": "stream",
     "text": [
      "xtrain:  <class 'numpy.ndarray'> (15480, 8)\n",
      "xtest:  <class 'numpy.ndarray'> (5160, 8)\n",
      "ytrain:  <class 'numpy.ndarray'> (15480,)\n",
      "ytest:  <class 'numpy.ndarray'> (5160,)\n"
     ]
    }
   ],
   "source": [
    "xtrain, xtest, ytrain, ytest = train_test_split(data,price,random_state=0)\n",
    "print(\"xtrain: \", type(xtrain), np.shape(xtrain))\n",
    "print(\"xtest: \", type(xtest), np.shape(xtest))\n",
    "print(\"ytrain: \", type(ytrain), np.shape(ytrain))\n",
    "print(\"ytest: \", type(ytest), np.shape(ytest))\n"
   ]
  },
  {
   "cell_type": "markdown",
   "metadata": {},
   "source": [
    "#### Linear regression"
   ]
  },
  {
   "cell_type": "code",
   "execution_count": 7,
   "metadata": {},
   "outputs": [
    {
     "name": "stdout",
     "output_type": "stream",
     "text": [
      "Linear Regression - Coefficients: \n",
      " [ 4.39091042e-01  9.59864665e-03 -1.03311173e-01  6.16730152e-01\n",
      " -7.63275197e-06 -4.48838256e-03 -4.17353284e-01 -4.30614462e-01]\n",
      "Linear Regression - Mean squared error:  0.5404128061709104\n",
      "Linear Regression - Variance score:  0.5911695436410469\n"
     ]
    }
   ],
   "source": [
    "from sklearn import datasets, linear_model\n",
    "from sklearn.metrics import mean_squared_error, r2_score\n",
    "from sklearn.preprocessing import StandardScaler\n",
    "\n",
    "#Initialize object\n",
    "model1 = linear_model.LinearRegression()\n",
    "model1.fit(xtrain,ytrain)\n",
    "predict1 = model1.predict(xtest)\n",
    "\n",
    "#Coefficients of ridge\n",
    "coef1 = model1.coef_\n",
    "print('Linear Regression - Coefficients: \\n', coef1)\n",
    "#Mean squared between test data and predicted data\n",
    "mean1 = mean_squared_error(ytest, predict1)\n",
    "print(\"Linear Regression - Mean squared error: \", mean1)\n",
    "#Variance between test data and predicted data\n",
    "rsq1 = r2_score(ytest, predict1)\n",
    "print(\"Linear Regression - Variance score: \", rsq1)\n",
    "\n",
    "\n",
    "\n"
   ]
  },
  {
   "cell_type": "markdown",
   "metadata": {},
   "source": [
    "#### Ridge"
   ]
  },
  {
   "cell_type": "code",
   "execution_count": 8,
   "metadata": {},
   "outputs": [
    {
     "name": "stdout",
     "output_type": "stream",
     "text": [
      "Ridge - Coefficients: \n",
      " [ 4.39078479e-01  9.59886837e-03 -1.03287193e-01  6.16605161e-01\n",
      " -7.63176959e-06 -4.48846866e-03 -4.17351215e-01 -4.30610676e-01]\n",
      "Ridge - Mean squared error:  0.5404138541483811\n",
      "Ridge - Variance score:  0.5911687508302499\n"
     ]
    }
   ],
   "source": [
    "\n",
    "#Initialize object\n",
    "model2 = linear_model.Ridge(alpha=.1)\n",
    "model2.fit(xtrain,ytrain)\n",
    "predict2 = model2.predict(xtest)\n",
    "\n",
    "#Coefficients of ridge\n",
    "print('Ridge - Coefficients: \\n', model2.coef_)\n",
    "#Mean squared between test data and predicted data\n",
    "print(\"Ridge - Mean squared error: \", mean_squared_error(ytest, predict2))\n",
    "#Variance between test data and predicted data\n",
    "print(\"Ridge - Variance score: \", r2_score(ytest, predict2))\n",
    "\n",
    "#print('\\n Using standard scalar:')\n",
    "\n",
    "#model2b = linear_model.Ridge(alpha=.1)\n",
    "#scaler1 = StandardScaler().fit(xtrain,ytrain)\n",
    "#model2b.fit(scaler1.transform(xtrain,ytrain))\n",
    "#predict2b = model2b.predict(xtest)\n",
    "\n",
    "\n",
    "#print('Standard Scaler - Ridge - Coefficients: \\n', model2b.coef_)\n",
    "\n",
    "#print(\"Standard Scaler - Ridge - Mean squared error: \", mean_squared_error(ytest, predict2b))\n",
    "\n",
    "#print(\"Standard Scaler - Ridge - Variance score: \", r2_score(ytest, predict2b))"
   ]
  },
  {
   "cell_type": "markdown",
   "metadata": {},
   "source": [
    "#### Lasso"
   ]
  },
  {
   "cell_type": "code",
   "execution_count": 9,
   "metadata": {},
   "outputs": [
    {
     "name": "stdout",
     "output_type": "stream",
     "text": [
      "Lasso - Coefficients: \n",
      " [ 3.95666352e-01  1.53279870e-02 -0.00000000e+00  0.00000000e+00\n",
      "  1.53002856e-05 -3.84935540e-03 -1.08253597e-01 -9.38537333e-02]\n",
      "Lasso - Mean squared error:  0.6268338940798738\n",
      "Lasso - Variance score:  0.5257906843590099\n"
     ]
    }
   ],
   "source": [
    "#Initialize object\n",
    "model3 = linear_model.Lasso(alpha=.1)\n",
    "model3.fit(xtrain,ytrain)\n",
    "predict3 = model3.predict(xtest)\n",
    "\n",
    "#Coefficients of ridge\n",
    "print('Lasso - Coefficients: \\n', model3.coef_)\n",
    "#Mean squared between test data and predicted data\n",
    "print(\"Lasso - Mean squared error: \", mean_squared_error(ytest, predict3))\n",
    "#Variance between test data and predicted data\n",
    "print(\"Lasso - Variance score: \", r2_score(ytest, predict3))"
   ]
  },
  {
   "cell_type": "markdown",
   "metadata": {},
   "source": [
    "#### ElasticNet"
   ]
  },
  {
   "cell_type": "code",
   "execution_count": 10,
   "metadata": {},
   "outputs": [
    {
     "name": "stdout",
     "output_type": "stream",
     "text": [
      "ElasticNet - Coefficients: \n",
      " [ 2.56818339e-01  1.14017469e-02  0.00000000e+00 -0.00000000e+00\n",
      "  8.18839699e-06 -0.00000000e+00 -0.00000000e+00 -0.00000000e+00]\n",
      "ElasticNet - Mean squared error:  0.7730208160272881\n",
      "ElasticNet - Variance score:  0.4151980682495934\n"
     ]
    }
   ],
   "source": [
    "#Initialize object\n",
    "model4 = linear_model.ElasticNet(random_state=0)\n",
    "model4.fit(xtrain,ytrain)\n",
    "predict4 =model4.predict(xtest)\n",
    "\n",
    "#Coefficients of ridge\n",
    "print('ElasticNet - Coefficients: \\n', model4.coef_)\n",
    "#Mean squared between test data and predicted data\n",
    "print(\"ElasticNet - Mean squared error: \", mean_squared_error(ytest, predict4))\n",
    "#Variance between test data and predicted data\n",
    "print(\"ElasticNet - Variance score: \", r2_score(ytest, predict4))"
   ]
  },
  {
   "cell_type": "markdown",
   "metadata": {},
   "source": [
    "### Part D"
   ]
  },
  {
   "cell_type": "markdown",
   "metadata": {},
   "source": [
    "Tune parameters with GridsearchCV"
   ]
  },
  {
   "cell_type": "code",
   "execution_count": 15,
   "metadata": {
    "scrolled": true
   },
   "outputs": [
    {
     "name": "stdout",
     "output_type": "stream",
     "text": [
      "Best score:  0.6081707442896801\n",
      "Best estimator: alpha =  1.0\n",
      "After using GridsearchCV\n",
      "Ridge - Variance score:  0.591161593074793\n"
     ]
    }
   ],
   "source": [
    "from sklearn.grid_search import GridSearchCV\n",
    "\n",
    "#Ridge\n",
    "alphas = np.array([1,0.7,0.5,0.3,.15,0.1,.05,0.01])\n",
    "\n",
    "model = linear_model.Ridge(alpha=.1)\n",
    "\n",
    "grid = GridSearchCV(estimator=model, param_grid=dict(alpha=alphas))\n",
    "grid.fit(xtrain, ytrain)\n",
    "\n",
    "print('Best score: ', grid.best_score_)\n",
    "print('Best estimator: alpha = ', grid.best_estimator_.alpha)\n",
    "a = grid.best_estimator_.alpha\n",
    "\n",
    "model2 = linear_model.Ridge(alpha=a)\n",
    "model2.fit(xtrain,ytrain)\n",
    "predict2 = model2.predict(xtest)\n",
    "\n",
    "#Coefficients of ridge\n",
    "print('After using GridsearchCV')\n",
    "\n",
    "#Variance between test data and predicted data\n",
    "print(\"Ridge - Variance score: \", r2_score(ytest, predict2))"
   ]
  },
  {
   "cell_type": "code",
   "execution_count": 16,
   "metadata": {},
   "outputs": [
    {
     "name": "stdout",
     "output_type": "stream",
     "text": [
      "Best score:  0.6057300074891139\n",
      "Best estimator: alpha =  0.01\n",
      "After using GridsearchCV\n",
      "Lasso - Variance score:  0.5911694643825318\n"
     ]
    }
   ],
   "source": [
    "#Lasso\n",
    "alphas = np.array([1,0.7,0.5,0.3,.15,0.1,.05,0.01])\n",
    "\n",
    "model = linear_model.Lasso(alpha=.1)\n",
    "\n",
    "grid = GridSearchCV(estimator=model, param_grid=dict(alpha=alphas))\n",
    "grid.fit(xtrain, ytrain)\n",
    "\n",
    "print('Best score: ', grid.best_score_)\n",
    "print('Best estimator: alpha = ', grid.best_estimator_.alpha)\n",
    "a = grid.best_estimator_.alpha\n",
    "\n",
    "model2 = linear_model.Ridge(alpha=a)\n",
    "model2.fit(xtrain,ytrain)\n",
    "predict2 = model2.predict(xtest)\n",
    "\n",
    "#Coefficients of ridge\n",
    "print('After using GridsearchCV')\n",
    "\n",
    "#Variance between test data and predicted data\n",
    "print(\"Lasso - Variance score: \", r2_score(ytest, predict2))"
   ]
  },
  {
   "cell_type": "code",
   "execution_count": 20,
   "metadata": {},
   "outputs": [
    {
     "name": "stdout",
     "output_type": "stream",
     "text": [
      "Best score:  0.6074991952625233\n",
      "Best estimator: alpha =  0.01\n",
      "After using GridsearchCV\n",
      "Ridge - Variance score:  0.5911694643825318\n"
     ]
    }
   ],
   "source": [
    "#Elastic Net\n",
    "alphas = np.array([1,0.7,0.5,0.3,.15,0.1,.05,0.01])\n",
    "\n",
    "model = linear_model.ElasticNet()\n",
    "\n",
    "grid = GridSearchCV(estimator=model, param_grid=dict(alpha=alphas))\n",
    "grid.fit(xtrain, ytrain)\n",
    "\n",
    "print('Best score: ', grid.best_score_)\n",
    "print('Best estimator: alpha = ', grid.best_estimator_.alpha)\n",
    "a = grid.best_estimator_.alpha\n",
    "\n",
    "model2 = linear_model.Ridge(alpha=a)\n",
    "model2.fit(xtrain,ytrain)\n",
    "predict2 = model2.predict(xtest)\n",
    "\n",
    "#Coefficients of ridge\n",
    "print('After using GridsearchCV')\n",
    "\n",
    "#Variance between test data and predicted data\n",
    "print(\"Ridge - Variance score: \", r2_score(ytest, predict2))"
   ]
  },
  {
   "cell_type": "markdown",
   "metadata": {},
   "source": [
    "### Part E"
   ]
  },
  {
   "cell_type": "markdown",
   "metadata": {},
   "source": [
    "Visualize coefficients of resulting models"
   ]
  },
  {
   "cell_type": "code",
   "execution_count": null,
   "metadata": {},
   "outputs": [],
   "source": []
  },
  {
   "cell_type": "markdown",
   "metadata": {},
   "source": [
    "## Part 2 - Classification on the Covertype dataset"
   ]
  },
  {
   "cell_type": "code",
   "execution_count": 21,
   "metadata": {},
   "outputs": [
    {
     "name": "stdout",
     "output_type": "stream",
     "text": [
      "<class 'sklearn.utils.Bunch'>\n",
      "Forest covertype dataset.\n",
      "\n",
      "A classic dataset for classification benchmarks, featuring categorical and\n",
      "real-valued features.\n",
      "\n",
      "The dataset page is available from UCI Machine Learning Repository\n",
      "\n",
      "    http://archive.ics.uci.edu/ml/datasets/Covertype\n",
      "\n",
      "Courtesy of Jock A. Blackard and Colorado State University.\n",
      "\n",
      "data:  <class 'numpy.ndarray'> (581012, 54)\n",
      "target:  <class 'numpy.ndarray'> (581012,)\n"
     ]
    }
   ],
   "source": [
    "covdata = datasets.fetch_covtype()\n",
    "print(type(covdata))\n",
    "Descr = covdata['DESCR']\n",
    "print(Descr)\n",
    "\n",
    "data = covdata['data']\n",
    "print('data: ', type(data), np.shape(data))\n",
    "target = covdata['target']\n",
    "print('target: ', type(target), np.shape(target))\n",
    "\n",
    "\n",
    "#From website\n",
    "columns = ['Elevation','Aspect','Slope','Horizontal Dist to Hydrology','Vertical Dist to Hydrology',\n",
    "           'Horizontal Dist to Roadways','Hillshade 9 am','Hillshade noon','Hillshade 3 pm','Horizontal Dist to Firepoints',\n",
    "          'Wilderness area 1','Wilderness area 2','Wilderness area 3','Wilderness area 4','Soil Type *40']\n",
    "#The target is the binary of cover type in the forest"
   ]
  },
  {
   "cell_type": "markdown",
   "metadata": {},
   "source": [
    "### A - Visualize univariant dist of each variable"
   ]
  },
  {
   "cell_type": "markdown",
   "metadata": {},
   "source": [
    "#Visualizing first 8 variables"
   ]
  },
  {
   "cell_type": "code",
   "execution_count": 22,
   "metadata": {},
   "outputs": [
    {
     "data": {
      "image/png": "[encoded data removed]",
      "text/plain": [
       "<Figure size 432x288 with 8 Axes>"
      ]
     },
     "metadata": {
      "needs_background": "light"
     },
     "output_type": "display_data"
    }
   ],
   "source": [
    "color = ['blue','red','yellow','pink','purple','green','orange','black']\n",
    "for i in range(1,9):\n",
    "    plt.subplot(2,4,i)\n",
    "    plt.plot(data[:,i-1],target,'o',color=color[i-1])\n",
    "    plt.ylabel('Cover type')\n",
    "    plt.xlabel(columns[i-1])\n",
    "plt.show()"
   ]
  },
  {
   "cell_type": "markdown",
   "metadata": {},
   "source": [
    "### B - train and test"
   ]
  },
  {
   "cell_type": "code",
   "execution_count": 23,
   "metadata": {},
   "outputs": [
    {
     "name": "stdout",
     "output_type": "stream",
     "text": [
      "xtrain:  <class 'numpy.ndarray'> (435759, 54)\n",
      "xtest:  <class 'numpy.ndarray'> (145253, 54)\n",
      "ytrain:  <class 'numpy.ndarray'> (435759,)\n",
      "ytest:  <class 'numpy.ndarray'> (145253,)\n"
     ]
    }
   ],
   "source": [
    "xtrain, xtest, ytrain, ytest = train_test_split(data,target,random_state=0)\n",
    "print(\"xtrain: \", type(xtrain), np.shape(xtrain))\n",
    "print(\"xtest: \", type(xtest), np.shape(xtest))\n",
    "print(\"ytrain: \", type(ytrain), np.shape(ytrain))\n",
    "print(\"ytest: \", type(ytest), np.shape(ytest))"
   ]
  },
  {
   "cell_type": "markdown",
   "metadata": {},
   "source": [
    "Logistic regression"
   ]
  },
  {
   "cell_type": "code",
   "execution_count": 24,
   "metadata": {},
   "outputs": [
    {
     "name": "stdout",
     "output_type": "stream",
     "text": [
      "Linear Regression - Mean squared error:  1.6251368302203741\n",
      "Linear Regression - Variance score:  0.1654446741801675\n"
     ]
    }
   ],
   "source": [
    "from sklearn.linear_model import LogisticRegression\n",
    "\n",
    "#Initialize object\n",
    "m1 = linear_model.LogisticRegression()\n",
    "m1.fit(xtrain,ytrain)\n",
    "p1 = m1.predict(xtest)\n",
    "\n",
    "#Coefficients of ridge\n",
    "\n",
    "#c1 = m1.coef_\n",
    "#print('Linear Regression - Coefficients: \\n', c1)\n",
    "\n",
    "#Mean squared between test data and predicted data\n",
    "mean = mean_squared_error(ytest, p1)\n",
    "print(\"Linear Regression - Mean squared error: \", mean)\n",
    "#Variance between test data and predicted data\n",
    "rsq = r2_score(ytest, p1)\n",
    "print(\"Linear Regression - Variance score: \", rsq)"
   ]
  },
  {
   "cell_type": "markdown",
   "metadata": {},
   "source": [
    "Linear support vector machine"
   ]
  },
  {
   "cell_type": "code",
   "execution_count": 25,
   "metadata": {},
   "outputs": [
    {
     "name": "stdout",
     "output_type": "stream",
     "text": [
      "Linear Regression - Mean squared error:  10.549778662058616\n",
      "Linear Regression - Variance score:  0.1654446741801675\n"
     ]
    }
   ],
   "source": [
    "from sklearn.svm import LinearSVC\n",
    "m2 = LinearSVC(random_state=0, tol=1e-5)\n",
    "m2.fit(xtrain,ytrain)\n",
    "p2 = m2.predict(xtest)\n",
    "#Mean squared between test data and predicted data\n",
    "mean = mean_squared_error(ytest, p2)\n",
    "print(\"Linear Regression - Mean squared error: \", mean)\n",
    "#Variance between test data and predicted data\n",
    "rsq = r2_score(ytest, p1)\n",
    "print(\"Linear Regression - Variance score: \", rsq)"
   ]
  }
 ],
 "metadata": {
  "kernelspec": {
   "display_name": "Python 3",
   "language": "python",
   "name": "python3"
  },
  "language_info": {
   "codemirror_mode": {
    "name": "ipython",
    "version": 3
   },
   "file_extension": ".py",
   "mimetype": "text/x-python",
   "name": "python",
   "nbconvert_exporter": "python",
   "pygments_lexer": "ipython3",
   "version": "3.7.0"
  }
 },
 "nbformat": 4,
 "nbformat_minor": 2
}
